{
 "cells": [
  {
   "cell_type": "code",
   "execution_count": 74,
   "id": "05125eb8-9380-40b8-9d32-7f4c6348722a",
   "metadata": {},
   "outputs": [],
   "source": [
    "library(dplyr)\n",
    "library(tidyverse)\n",
    "\n",
    "library(ggplot2)\n",
    "library(cowplot)\n",
    "\n",
    "library(readxl)\n",
    "\n",
    "options(repr.plot.width=15, repr.plot.height=6)"
   ]
  },
  {
   "cell_type": "code",
   "execution_count": 165,
   "id": "34faabf9-eb4f-40f9-83ec-7bf89b3c57de",
   "metadata": {},
   "outputs": [
    {
     "data": {
      "text/html": [
       "<table class=\"dataframe\">\n",
       "<caption>A data.frame: 6 × 10</caption>\n",
       "<thead>\n",
       "\t<tr><th></th><th scope=col>tratamento</th><th scope=col>bloco</th><th scope=col>colheita</th><th scope=col>n_frutos</th><th scope=col>n_frutos_cum</th><th scope=col>peso</th><th scope=col>comprimento</th><th scope=col>largura</th><th scope=col>bioproduto</th><th scope=col>alternado</th></tr>\n",
       "\t<tr><th></th><th scope=col>&lt;fct&gt;</th><th scope=col>&lt;fct&gt;</th><th scope=col>&lt;int&gt;</th><th scope=col>&lt;dbl&gt;</th><th scope=col>&lt;dbl&gt;</th><th scope=col>&lt;dbl&gt;</th><th scope=col>&lt;dbl&gt;</th><th scope=col>&lt;dbl&gt;</th><th scope=col>&lt;dbl&gt;</th><th scope=col>&lt;fct&gt;</th></tr>\n",
       "</thead>\n",
       "<tbody>\n",
       "\t<tr><th scope=row>1</th><td>1</td><td>1</td><td>1</td><td> 1.5</td><td> 1.5</td><td> 309.0</td><td>62.33333</td><td>82.33333</td><td>0.5</td><td>2</td></tr>\n",
       "\t<tr><th scope=row>2</th><td>1</td><td>1</td><td>2</td><td> 6.5</td><td> 8.0</td><td>1489.0</td><td>60.76923</td><td>77.23077</td><td>0.5</td><td>2</td></tr>\n",
       "\t<tr><th scope=row>3</th><td>1</td><td>1</td><td>3</td><td> 1.5</td><td> 9.5</td><td> 340.5</td><td>51.00000</td><td>79.00000</td><td>0.5</td><td>2</td></tr>\n",
       "\t<tr><th scope=row>4</th><td>1</td><td>1</td><td>4</td><td> 7.0</td><td>16.5</td><td>1288.0</td><td>54.64286</td><td>71.14286</td><td>0.5</td><td>2</td></tr>\n",
       "\t<tr><th scope=row>5</th><td>1</td><td>1</td><td>5</td><td>10.0</td><td>26.5</td><td>2119.0</td><td>64.10000</td><td>77.00000</td><td>0.5</td><td>2</td></tr>\n",
       "\t<tr><th scope=row>6</th><td>1</td><td>1</td><td>6</td><td> 3.0</td><td>29.5</td><td> 785.0</td><td>70.66667</td><td>85.00000</td><td>0.5</td><td>2</td></tr>\n",
       "</tbody>\n",
       "</table>\n"
      ],
      "text/latex": [
       "A data.frame: 6 × 10\n",
       "\\begin{tabular}{r|llllllllll}\n",
       "  & tratamento & bloco & colheita & n\\_frutos & n\\_frutos\\_cum & peso & comprimento & largura & bioproduto & alternado\\\\\n",
       "  & <fct> & <fct> & <int> & <dbl> & <dbl> & <dbl> & <dbl> & <dbl> & <dbl> & <fct>\\\\\n",
       "\\hline\n",
       "\t1 & 1 & 1 & 1 &  1.5 &  1.5 &  309.0 & 62.33333 & 82.33333 & 0.5 & 2\\\\\n",
       "\t2 & 1 & 1 & 2 &  6.5 &  8.0 & 1489.0 & 60.76923 & 77.23077 & 0.5 & 2\\\\\n",
       "\t3 & 1 & 1 & 3 &  1.5 &  9.5 &  340.5 & 51.00000 & 79.00000 & 0.5 & 2\\\\\n",
       "\t4 & 1 & 1 & 4 &  7.0 & 16.5 & 1288.0 & 54.64286 & 71.14286 & 0.5 & 2\\\\\n",
       "\t5 & 1 & 1 & 5 & 10.0 & 26.5 & 2119.0 & 64.10000 & 77.00000 & 0.5 & 2\\\\\n",
       "\t6 & 1 & 1 & 6 &  3.0 & 29.5 &  785.0 & 70.66667 & 85.00000 & 0.5 & 2\\\\\n",
       "\\end{tabular}\n"
      ],
      "text/markdown": [
       "\n",
       "A data.frame: 6 × 10\n",
       "\n",
       "| <!--/--> | tratamento &lt;fct&gt; | bloco &lt;fct&gt; | colheita &lt;int&gt; | n_frutos &lt;dbl&gt; | n_frutos_cum &lt;dbl&gt; | peso &lt;dbl&gt; | comprimento &lt;dbl&gt; | largura &lt;dbl&gt; | bioproduto &lt;dbl&gt; | alternado &lt;fct&gt; |\n",
       "|---|---|---|---|---|---|---|---|---|---|---|\n",
       "| 1 | 1 | 1 | 1 |  1.5 |  1.5 |  309.0 | 62.33333 | 82.33333 | 0.5 | 2 |\n",
       "| 2 | 1 | 1 | 2 |  6.5 |  8.0 | 1489.0 | 60.76923 | 77.23077 | 0.5 | 2 |\n",
       "| 3 | 1 | 1 | 3 |  1.5 |  9.5 |  340.5 | 51.00000 | 79.00000 | 0.5 | 2 |\n",
       "| 4 | 1 | 1 | 4 |  7.0 | 16.5 | 1288.0 | 54.64286 | 71.14286 | 0.5 | 2 |\n",
       "| 5 | 1 | 1 | 5 | 10.0 | 26.5 | 2119.0 | 64.10000 | 77.00000 | 0.5 | 2 |\n",
       "| 6 | 1 | 1 | 6 |  3.0 | 29.5 |  785.0 | 70.66667 | 85.00000 | 0.5 | 2 |\n",
       "\n"
      ],
      "text/plain": [
       "  tratamento bloco colheita n_frutos n_frutos_cum peso   comprimento largura \n",
       "1 1          1     1         1.5      1.5          309.0 62.33333    82.33333\n",
       "2 1          1     2         6.5      8.0         1489.0 60.76923    77.23077\n",
       "3 1          1     3         1.5      9.5          340.5 51.00000    79.00000\n",
       "4 1          1     4         7.0     16.5         1288.0 54.64286    71.14286\n",
       "5 1          1     5        10.0     26.5         2119.0 64.10000    77.00000\n",
       "6 1          1     6         3.0     29.5          785.0 70.66667    85.00000\n",
       "  bioproduto alternado\n",
       "1 0.5        2        \n",
       "2 0.5        2        \n",
       "3 0.5        2        \n",
       "4 0.5        2        \n",
       "5 0.5        2        \n",
       "6 0.5        2        "
      ]
     },
     "metadata": {},
     "output_type": "display_data"
    }
   ],
   "source": [
    "df <- read.csv(\"df_n_frutos_cum.csv\")\n",
    "\n",
    "df$bioproduto <- ifelse(df$tratamento <= 2, 0.5,\n",
    "    ifelse(df$tratamento <= 4,1,\n",
    "        ifelse(df$tratamento <= 6,1.5,\n",
    "            ifelse(df$tratamento <= 8,2,\n",
    "                ifelse(df$tratamento <= 10,2.5,\n",
    "                    ifelse(df$tratamento == 11,5,\n",
    "                        10\n",
    "                    )\n",
    "                )\n",
    "            )\n",
    "        )\n",
    "    )\n",
    ")\n",
    "df$alternado <- factor(1 + df$tratamento %% 2)\n",
    "\n",
    "df$tratamento <- factor(df$tratamento)\n",
    "df$bloco <- factor(df$bloco)\n",
    "\n",
    "head(df, 6)"
   ]
  },
  {
   "cell_type": "code",
   "execution_count": 202,
   "id": "b99052d5-06ae-4937-89f2-7b5505a7e12f",
   "metadata": {},
   "outputs": [
    {
     "data": {
      "text/html": [
       "<pre class=language-r><code>function (n, contrasts = TRUE, sparse = FALSE) \n",
       "{\n",
       "<span style=white-space:pre-wrap>    if (length(n) &lt;= 1L) {</span>\n",
       "<span style=white-space:pre-wrap>        if (is.numeric(n) &amp;&amp; length(n) == 1L &amp;&amp; n &gt; 1L) </span>\n",
       "<span style=white-space:pre-wrap>            levels &lt;- seq_len(n)</span>\n",
       "<span style=white-space:pre-wrap>        else stop(\"not enough degrees of freedom to define contrasts\")</span>\n",
       "<span style=white-space:pre-wrap>    }</span>\n",
       "<span style=white-space:pre-wrap>    else levels &lt;- n</span>\n",
       "<span style=white-space:pre-wrap>    levels &lt;- as.character(levels)</span>\n",
       "<span style=white-space:pre-wrap>    cont &lt;- .Diag(levels, sparse = sparse)</span>\n",
       "<span style=white-space:pre-wrap>    if (contrasts) {</span>\n",
       "<span style=white-space:pre-wrap>        cont &lt;- cont[, -length(levels), drop = FALSE]</span>\n",
       "<span style=white-space:pre-wrap>        cont[length(levels), ] &lt;- -1</span>\n",
       "<span style=white-space:pre-wrap>        colnames(cont) &lt;- NULL</span>\n",
       "<span style=white-space:pre-wrap>    }</span>\n",
       "<span style=white-space:pre-wrap>    cont</span>\n",
       "}</code></pre>"
      ],
      "text/latex": [
       "\\begin{minted}{r}\n",
       "function (n, contrasts = TRUE, sparse = FALSE) \n",
       "\\{\n",
       "    if (length(n) <= 1L) \\{\n",
       "        if (is.numeric(n) \\&\\& length(n) == 1L \\&\\& n > 1L) \n",
       "            levels <- seq\\_len(n)\n",
       "        else stop(\"not enough degrees of freedom to define contrasts\")\n",
       "    \\}\n",
       "    else levels <- n\n",
       "    levels <- as.character(levels)\n",
       "    cont <- .Diag(levels, sparse = sparse)\n",
       "    if (contrasts) \\{\n",
       "        cont <- cont{[}, -length(levels), drop = FALSE{]}\n",
       "        cont{[}length(levels), {]} <- -1\n",
       "        colnames(cont) <- NULL\n",
       "    \\}\n",
       "    cont\n",
       "\\}\n",
       "\\end{minted}"
      ],
      "text/markdown": [
       "```r\n",
       "function (n, contrasts = TRUE, sparse = FALSE) \n",
       "{\n",
       "    if (length(n) <= 1L) {\n",
       "        if (is.numeric(n) && length(n) == 1L && n > 1L) \n",
       "            levels <- seq_len(n)\n",
       "        else stop(\"not enough degrees of freedom to define contrasts\")\n",
       "    }\n",
       "    else levels <- n\n",
       "    levels <- as.character(levels)\n",
       "    cont <- .Diag(levels, sparse = sparse)\n",
       "    if (contrasts) {\n",
       "        cont <- cont[, -length(levels), drop = FALSE]\n",
       "        cont[length(levels), ] <- -1\n",
       "        colnames(cont) <- NULL\n",
       "    }\n",
       "    cont\n",
       "}\n",
       "```"
      ],
      "text/plain": [
       "function (n, contrasts = TRUE, sparse = FALSE) \n",
       "{\n",
       "    if (length(n) <= 1L) {\n",
       "        if (is.numeric(n) && length(n) == 1L && n > 1L) \n",
       "            levels <- seq_len(n)\n",
       "        else stop(\"not enough degrees of freedom to define contrasts\")\n",
       "    }\n",
       "    else levels <- n\n",
       "    levels <- as.character(levels)\n",
       "    cont <- .Diag(levels, sparse = sparse)\n",
       "    if (contrasts) {\n",
       "        cont <- cont[, -length(levels), drop = FALSE]\n",
       "        cont[length(levels), ] <- -1\n",
       "        colnames(cont) <- NULL\n",
       "    }\n",
       "    cont\n",
       "}\n",
       "<bytecode: 0x55984b4f2df8>\n",
       "<environment: namespace:stats>"
      ]
     },
     "metadata": {},
     "output_type": "display_data"
    }
   ],
   "source": [
    "contr.sum"
   ]
  },
  {
   "cell_type": "code",
   "execution_count": 201,
   "id": "cc376da5-1463-45da-84e7-948245d563c3",
   "metadata": {},
   "outputs": [
    {
     "name": "stderr",
     "output_type": "stream",
     "text": [
      "\u001b[1m\u001b[22m`summarise()` has grouped output by 'bioproduto', 'alternado'. You can override using the `.groups` argument.\n"
     ]
    },
    {
     "data": {
      "text/plain": [
       "\n",
       "Call:\n",
       "lm(formula = last_n_frutos_cum ~ bioproduto + alternado + bloco, \n",
       "    data = df_design)\n",
       "\n",
       "Residuals:\n",
       "    Min      1Q  Median      3Q     Max \n",
       "-17.144  -4.774  -1.039   5.090  15.000 \n",
       "\n",
       "Coefficients:\n",
       "            Estimate Std. Error t value Pr(>|t|)    \n",
       "(Intercept)   35.489      1.601  22.173   <2e-16 ***\n",
       "bioproduto1   -3.844      1.601  -2.402   0.0186 *  \n",
       "bioproduto2    2.183      1.601   1.364   0.1763    \n",
       "bioproduto3    2.239      1.601   1.399   0.1656    \n",
       "bioproduto4    1.100      1.601   0.687   0.4939    \n",
       "alternado2    -2.144      1.601  -1.340   0.1840    \n",
       "bloco2         3.400      1.960   1.734   0.0866 .  \n",
       "bloco3         1.633      1.960   0.833   0.4071    \n",
       "---\n",
       "Signif. codes:  0 ‘***’ 0.001 ‘**’ 0.01 ‘*’ 0.05 ‘.’ 0.1 ‘ ’ 1\n",
       "\n",
       "Residual standard error: 7.592 on 82 degrees of freedom\n",
       "Multiple R-squared:  0.1434,\tAdjusted R-squared:  0.07032 \n",
       "F-statistic: 1.962 on 7 and 82 DF,  p-value: 0.07032\n"
      ]
     },
     "metadata": {},
     "output_type": "display_data"
    }
   ],
   "source": [
    "df_design <- df %>% group_by(bioproduto, alternado, bloco) %>%\n",
    "summarise(\n",
    "    # tratamento =\n",
    "    last_n_frutos_cum = list(n_frutos_cum[8:10])\n",
    ") %>% unnest(last_n_frutos_cum)\n",
    "\n",
    "df_design <- df_design[1:90,]\n",
    "df_design$bioproduto <- factor(df_design$bioproduto)\n",
    "\n",
    "contrasts(df_design$bioproduto) <- contr.sum(5, contrasts=TRUE)\n",
    "fit <- lm(last_n_frutos_cum ~ bioproduto + alternado + bioproduto:alternado + bloco, data = df_design)\n",
    "s <- summary(fit)\n",
    "\n",
    "contrasts(df_design$bioproduto) <- contr.sum(levels(df_design$bioproduto))\n",
    "fit <- lm(last_n_frutos_cum ~ bioproduto + alternado + bloco, data = df_design)\n",
    "s <- summary(fit)\n",
    "s"
   ]
  },
  {
   "cell_type": "code",
   "execution_count": 141,
   "id": "04c42c25-64ae-46f1-8192-6b7a6e0078b5",
   "metadata": {},
   "outputs": [
    {
     "data": {
      "text/plain": [
       "                     Df Sum Sq Mean Sq F value Pr(>F)  \n",
       "bioproduto            4    515  128.63   2.247 0.0715 .\n",
       "alternado             1    103  103.47   1.807 0.1827  \n",
       "bloco                 2    173   86.74   1.515 0.2262  \n",
       "bioproduto:alternado  4    261   65.23   1.139 0.3443  \n",
       "Residuals            78   4466   57.25                 \n",
       "---\n",
       "Signif. codes:  0 ‘***’ 0.001 ‘**’ 0.01 ‘*’ 0.05 ‘.’ 0.1 ‘ ’ 1"
      ]
     },
     "metadata": {},
     "output_type": "display_data"
    }
   ],
   "source": [
    "model <- aov(last_n_frutos_cum ~ bioproduto + alternado + bioproduto:alternado + bloco, data = df_design)\n",
    "summary(model)"
   ]
  },
  {
   "cell_type": "code",
   "execution_count": 142,
   "id": "5c511150-a89e-436d-a263-f8f78086e392",
   "metadata": {},
   "outputs": [],
   "source": [
    "a <- 5\n",
    "b <- 2\n",
    "delta <- 3\n",
    "n <- 3"
   ]
  },
  {
   "cell_type": "code",
   "execution_count": 136,
   "id": "dd66d1b1-b687-4adc-a162-7b52cd6994dd",
   "metadata": {},
   "outputs": [
    {
     "data": {
      "text/html": [
       "<style>\n",
       ".list-inline {list-style: none; margin:0; padding: 0}\n",
       ".list-inline>li {display: inline-block}\n",
       ".list-inline>li:not(:last-child)::after {content: \"\\00b7\"; padding: 0 .5ex}\n",
       "</style>\n",
       "<ol class=list-inline><li>14.5</li><li>16</li><li>25</li><li>36.5</li><li>37.5</li><li>39.5</li><li>29.5</li><li>41.5</li><li>47.5</li><li>33.5</li><li>39</li><li>43.5</li><li>33.5</li><li>39</li><li>46.5</li><li>37.5</li><li>44.5</li><li>53</li><li>33.5</li><li>36</li><li>40.5</li><li>41</li><li>47</li><li>52</li><li>27.5</li><li>37.5</li><li>42.5</li><li>34</li><li>35</li><li>43</li><li>38.5</li><li>43.5</li><li>54.5</li><li>33</li><li>36</li><li>43</li><li>27</li><li>29</li><li>33</li><li>28</li><li>33</li><li>37</li><li>31</li><li>35.5</li><li>43.5</li></ol>\n"
      ],
      "text/latex": [
       "\\begin{enumerate*}\n",
       "\\item 14.5\n",
       "\\item 16\n",
       "\\item 25\n",
       "\\item 36.5\n",
       "\\item 37.5\n",
       "\\item 39.5\n",
       "\\item 29.5\n",
       "\\item 41.5\n",
       "\\item 47.5\n",
       "\\item 33.5\n",
       "\\item 39\n",
       "\\item 43.5\n",
       "\\item 33.5\n",
       "\\item 39\n",
       "\\item 46.5\n",
       "\\item 37.5\n",
       "\\item 44.5\n",
       "\\item 53\n",
       "\\item 33.5\n",
       "\\item 36\n",
       "\\item 40.5\n",
       "\\item 41\n",
       "\\item 47\n",
       "\\item 52\n",
       "\\item 27.5\n",
       "\\item 37.5\n",
       "\\item 42.5\n",
       "\\item 34\n",
       "\\item 35\n",
       "\\item 43\n",
       "\\item 38.5\n",
       "\\item 43.5\n",
       "\\item 54.5\n",
       "\\item 33\n",
       "\\item 36\n",
       "\\item 43\n",
       "\\item 27\n",
       "\\item 29\n",
       "\\item 33\n",
       "\\item 28\n",
       "\\item 33\n",
       "\\item 37\n",
       "\\item 31\n",
       "\\item 35.5\n",
       "\\item 43.5\n",
       "\\end{enumerate*}\n"
      ],
      "text/markdown": [
       "1. 14.5\n",
       "2. 16\n",
       "3. 25\n",
       "4. 36.5\n",
       "5. 37.5\n",
       "6. 39.5\n",
       "7. 29.5\n",
       "8. 41.5\n",
       "9. 47.5\n",
       "10. 33.5\n",
       "11. 39\n",
       "12. 43.5\n",
       "13. 33.5\n",
       "14. 39\n",
       "15. 46.5\n",
       "16. 37.5\n",
       "17. 44.5\n",
       "18. 53\n",
       "19. 33.5\n",
       "20. 36\n",
       "21. 40.5\n",
       "22. 41\n",
       "23. 47\n",
       "24. 52\n",
       "25. 27.5\n",
       "26. 37.5\n",
       "27. 42.5\n",
       "28. 34\n",
       "29. 35\n",
       "30. 43\n",
       "31. 38.5\n",
       "32. 43.5\n",
       "33. 54.5\n",
       "34. 33\n",
       "35. 36\n",
       "36. 43\n",
       "37. 27\n",
       "38. 29\n",
       "39. 33\n",
       "40. 28\n",
       "41. 33\n",
       "42. 37\n",
       "43. 31\n",
       "44. 35.5\n",
       "45. 43.5\n",
       "\n",
       "\n"
      ],
      "text/plain": [
       " [1] 14.5 16.0 25.0 36.5 37.5 39.5 29.5 41.5 47.5 33.5 39.0 43.5 33.5 39.0 46.5\n",
       "[16] 37.5 44.5 53.0 33.5 36.0 40.5 41.0 47.0 52.0 27.5 37.5 42.5 34.0 35.0 43.0\n",
       "[31] 38.5 43.5 54.5 33.0 36.0 43.0 27.0 29.0 33.0 28.0 33.0 37.0 31.0 35.5 43.5"
      ]
     },
     "metadata": {},
     "output_type": "display_data"
    }
   ],
   "source": [
    "j = 1\n",
    "df_design[df_design$alternado == j,]$last_n_frutos_cum"
   ]
  },
  {
   "cell_type": "code",
   "execution_count": 144,
   "id": "a6a406af-0bc3-444a-896c-f2999e1290d0",
   "metadata": {},
   "outputs": [
    {
     "data": {
      "text/html": [
       "520.466666666674"
      ],
      "text/latex": [
       "520.466666666674"
      ],
      "text/markdown": [
       "520.466666666674"
      ],
      "text/plain": [
       "[1] 520.4667"
      ]
     },
     "metadata": {},
     "output_type": "display_data"
    },
    {
     "data": {
      "text/html": [
       "310.408333333326"
      ],
      "text/latex": [
       "310.408333333326"
      ],
      "text/markdown": [
       "310.408333333326"
      ],
      "text/plain": [
       "[1] 310.4083"
      ]
     },
     "metadata": {},
     "output_type": "display_data"
    }
   ],
   "source": [
    "# SSQ_blocos\n",
    "sum(sapply(1:delta, function(j){\n",
    "    sum( df_design[df_design$bloco == j,]$last_n_frutos_cum )\n",
    "})^2 / (a*b)) - sum(df_design$last_n_frutos_cum)^2/(a*b*n)\n",
    "\n",
    "# SSQ_alternado\n",
    "sum(sapply(1:b, function(j){\n",
    "    sum( df_design[df_design$alternado == j,]$last_n_frutos_cum )\n",
    "})^2 / (a*n)) - sum(df_design$last_n_frutos_cum)^2/(a*b*n)"
   ]
  }
 ],
 "metadata": {
  "kernelspec": {
   "display_name": "R",
   "language": "R",
   "name": "ir"
  },
  "language_info": {
   "codemirror_mode": "r",
   "file_extension": ".r",
   "mimetype": "text/x-r-source",
   "name": "R",
   "pygments_lexer": "r",
   "version": "4.2.2"
  }
 },
 "nbformat": 4,
 "nbformat_minor": 5
}
