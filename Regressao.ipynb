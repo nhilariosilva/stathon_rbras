{
 "cells": [
  {
   "cell_type": "code",
   "execution_count": 1,
   "id": "9eecb847-8a8b-418d-9152-eb197e17edb0",
   "metadata": {},
   "outputs": [
    {
     "name": "stderr",
     "output_type": "stream",
     "text": [
      "\n",
      "Attaching package: ‘dplyr’\n",
      "\n",
      "\n",
      "The following objects are masked from ‘package:stats’:\n",
      "\n",
      "    filter, lag\n",
      "\n",
      "\n",
      "The following objects are masked from ‘package:base’:\n",
      "\n",
      "    intersect, setdiff, setequal, union\n",
      "\n",
      "\n",
      "── \u001b[1mAttaching core tidyverse packages\u001b[22m ────────────────────────────────────────────────────────────────────────────────────── tidyverse 2.0.0 ──\n",
      "\u001b[32m✔\u001b[39m \u001b[34mforcats  \u001b[39m 1.0.0     \u001b[32m✔\u001b[39m \u001b[34mreadr    \u001b[39m 2.1.4\n",
      "\u001b[32m✔\u001b[39m \u001b[34mggplot2  \u001b[39m 3.4.2     \u001b[32m✔\u001b[39m \u001b[34mstringr  \u001b[39m 1.5.0\n",
      "\u001b[32m✔\u001b[39m \u001b[34mlubridate\u001b[39m 1.9.2     \u001b[32m✔\u001b[39m \u001b[34mtibble   \u001b[39m 3.2.1\n",
      "\u001b[32m✔\u001b[39m \u001b[34mpurrr    \u001b[39m 1.0.1     \u001b[32m✔\u001b[39m \u001b[34mtidyr    \u001b[39m 1.3.0\n",
      "── \u001b[1mConflicts\u001b[22m ──────────────────────────────────────────────────────────────────────────────────────────────────────── tidyverse_conflicts() ──\n",
      "\u001b[31m✖\u001b[39m \u001b[34mdplyr\u001b[39m::\u001b[32mfilter()\u001b[39m masks \u001b[34mstats\u001b[39m::filter()\n",
      "\u001b[31m✖\u001b[39m \u001b[34mdplyr\u001b[39m::\u001b[32mlag()\u001b[39m    masks \u001b[34mstats\u001b[39m::lag()\n",
      "\u001b[36mℹ\u001b[39m Use the conflicted package (\u001b[3m\u001b[34m<http://conflicted.r-lib.org/>\u001b[39m\u001b[23m) to force all conflicts to become errors\n",
      "\n",
      "Attaching package: ‘cowplot’\n",
      "\n",
      "\n",
      "The following object is masked from ‘package:lubridate’:\n",
      "\n",
      "    stamp\n",
      "\n",
      "\n"
     ]
    }
   ],
   "source": [
    "library(dplyr)\n",
    "library(tidyverse)\n",
    "\n",
    "library(ggplot2)\n",
    "library(cowplot)\n",
    "\n",
    "library(readxl)\n",
    "\n",
    "options(repr.plot.width=15, repr.plot.height=6)"
   ]
  },
  {
   "cell_type": "code",
   "execution_count": 2,
   "id": "2c361915-aa9f-4453-853f-cd7d04257070",
   "metadata": {},
   "outputs": [
    {
     "data": {
      "text/html": [
       "<table class=\"dataframe\">\n",
       "<caption>A data.frame: 6 × 8</caption>\n",
       "<thead>\n",
       "\t<tr><th></th><th scope=col>tratamento</th><th scope=col>bloco</th><th scope=col>colheita</th><th scope=col>n_frutos</th><th scope=col>n_frutos_cum</th><th scope=col>peso</th><th scope=col>comprimento</th><th scope=col>largura</th></tr>\n",
       "\t<tr><th></th><th scope=col>&lt;int&gt;</th><th scope=col>&lt;int&gt;</th><th scope=col>&lt;int&gt;</th><th scope=col>&lt;dbl&gt;</th><th scope=col>&lt;dbl&gt;</th><th scope=col>&lt;dbl&gt;</th><th scope=col>&lt;dbl&gt;</th><th scope=col>&lt;dbl&gt;</th></tr>\n",
       "</thead>\n",
       "<tbody>\n",
       "\t<tr><th scope=row>1</th><td>1</td><td>1</td><td>1</td><td> 1.5</td><td> 1.5</td><td> 309.0</td><td>62.33333</td><td>82.33333</td></tr>\n",
       "\t<tr><th scope=row>2</th><td>1</td><td>1</td><td>2</td><td> 6.5</td><td> 8.0</td><td>1489.0</td><td>60.76923</td><td>77.23077</td></tr>\n",
       "\t<tr><th scope=row>3</th><td>1</td><td>1</td><td>3</td><td> 1.5</td><td> 9.5</td><td> 340.5</td><td>51.00000</td><td>79.00000</td></tr>\n",
       "\t<tr><th scope=row>4</th><td>1</td><td>1</td><td>4</td><td> 7.0</td><td>16.5</td><td>1288.0</td><td>54.64286</td><td>71.14286</td></tr>\n",
       "\t<tr><th scope=row>5</th><td>1</td><td>1</td><td>5</td><td>10.0</td><td>26.5</td><td>2119.0</td><td>64.10000</td><td>77.00000</td></tr>\n",
       "\t<tr><th scope=row>6</th><td>1</td><td>1</td><td>6</td><td> 3.0</td><td>29.5</td><td> 785.0</td><td>70.66667</td><td>85.00000</td></tr>\n",
       "</tbody>\n",
       "</table>\n"
      ],
      "text/latex": [
       "A data.frame: 6 × 8\n",
       "\\begin{tabular}{r|llllllll}\n",
       "  & tratamento & bloco & colheita & n\\_frutos & n\\_frutos\\_cum & peso & comprimento & largura\\\\\n",
       "  & <int> & <int> & <int> & <dbl> & <dbl> & <dbl> & <dbl> & <dbl>\\\\\n",
       "\\hline\n",
       "\t1 & 1 & 1 & 1 &  1.5 &  1.5 &  309.0 & 62.33333 & 82.33333\\\\\n",
       "\t2 & 1 & 1 & 2 &  6.5 &  8.0 & 1489.0 & 60.76923 & 77.23077\\\\\n",
       "\t3 & 1 & 1 & 3 &  1.5 &  9.5 &  340.5 & 51.00000 & 79.00000\\\\\n",
       "\t4 & 1 & 1 & 4 &  7.0 & 16.5 & 1288.0 & 54.64286 & 71.14286\\\\\n",
       "\t5 & 1 & 1 & 5 & 10.0 & 26.5 & 2119.0 & 64.10000 & 77.00000\\\\\n",
       "\t6 & 1 & 1 & 6 &  3.0 & 29.5 &  785.0 & 70.66667 & 85.00000\\\\\n",
       "\\end{tabular}\n"
      ],
      "text/markdown": [
       "\n",
       "A data.frame: 6 × 8\n",
       "\n",
       "| <!--/--> | tratamento &lt;int&gt; | bloco &lt;int&gt; | colheita &lt;int&gt; | n_frutos &lt;dbl&gt; | n_frutos_cum &lt;dbl&gt; | peso &lt;dbl&gt; | comprimento &lt;dbl&gt; | largura &lt;dbl&gt; |\n",
       "|---|---|---|---|---|---|---|---|---|\n",
       "| 1 | 1 | 1 | 1 |  1.5 |  1.5 |  309.0 | 62.33333 | 82.33333 |\n",
       "| 2 | 1 | 1 | 2 |  6.5 |  8.0 | 1489.0 | 60.76923 | 77.23077 |\n",
       "| 3 | 1 | 1 | 3 |  1.5 |  9.5 |  340.5 | 51.00000 | 79.00000 |\n",
       "| 4 | 1 | 1 | 4 |  7.0 | 16.5 | 1288.0 | 54.64286 | 71.14286 |\n",
       "| 5 | 1 | 1 | 5 | 10.0 | 26.5 | 2119.0 | 64.10000 | 77.00000 |\n",
       "| 6 | 1 | 1 | 6 |  3.0 | 29.5 |  785.0 | 70.66667 | 85.00000 |\n",
       "\n"
      ],
      "text/plain": [
       "  tratamento bloco colheita n_frutos n_frutos_cum peso   comprimento largura \n",
       "1 1          1     1         1.5      1.5          309.0 62.33333    82.33333\n",
       "2 1          1     2         6.5      8.0         1489.0 60.76923    77.23077\n",
       "3 1          1     3         1.5      9.5          340.5 51.00000    79.00000\n",
       "4 1          1     4         7.0     16.5         1288.0 54.64286    71.14286\n",
       "5 1          1     5        10.0     26.5         2119.0 64.10000    77.00000\n",
       "6 1          1     6         3.0     29.5          785.0 70.66667    85.00000"
      ]
     },
     "metadata": {},
     "output_type": "display_data"
    }
   ],
   "source": [
    "df <- read.csv(\"df_n_frutos_cum.csv\")\n",
    "head(df, 6)"
   ]
  },
  {
   "cell_type": "markdown",
   "id": "10633b55-9b30-471e-9f89-e81ac589cb2a",
   "metadata": {},
   "source": [
    "# Primavera Verão"
   ]
  },
  {
   "cell_type": "code",
   "execution_count": 3,
   "id": "35181890-a283-4284-b303-c2dd65f20bd7",
   "metadata": {},
   "outputs": [
    {
     "data": {
      "text/html": [
       "<table class=\"dataframe\">\n",
       "<caption>A data.frame: 36 × 4</caption>\n",
       "<thead>\n",
       "\t<tr><th scope=col>tratamento</th><th scope=col>bloco</th><th scope=col>slope</th><th scope=col>colheita</th></tr>\n",
       "\t<tr><th scope=col>&lt;fct&gt;</th><th scope=col>&lt;fct&gt;</th><th scope=col>&lt;dbl&gt;</th><th scope=col>&lt;fct&gt;</th></tr>\n",
       "</thead>\n",
       "<tbody>\n",
       "\t<tr><td>1 </td><td>1</td><td>4.632468</td><td>completa </td></tr>\n",
       "\t<tr><td>1 </td><td>2</td><td>2.781818</td><td>completa </td></tr>\n",
       "\t<tr><td>1 </td><td>3</td><td>3.636364</td><td>completa </td></tr>\n",
       "\t<tr><td>3 </td><td>1</td><td>4.172727</td><td>completa </td></tr>\n",
       "\t<tr><td>3 </td><td>2</td><td>3.889610</td><td>completa </td></tr>\n",
       "\t<tr><td>3 </td><td>3</td><td>3.498701</td><td>completa </td></tr>\n",
       "\t<tr><td>5 </td><td>1</td><td>3.745455</td><td>completa </td></tr>\n",
       "\t<tr><td>5 </td><td>2</td><td>4.218182</td><td>completa </td></tr>\n",
       "\t<tr><td>5 </td><td>3</td><td>4.172727</td><td>completa </td></tr>\n",
       "\t<tr><td>7 </td><td>1</td><td>4.329870</td><td>completa </td></tr>\n",
       "\t<tr><td>7 </td><td>2</td><td>4.193506</td><td>completa </td></tr>\n",
       "\t<tr><td>7 </td><td>3</td><td>2.742857</td><td>completa </td></tr>\n",
       "\t<tr><td>9 </td><td>1</td><td>3.216883</td><td>completa </td></tr>\n",
       "\t<tr><td>9 </td><td>2</td><td>4.410390</td><td>completa </td></tr>\n",
       "\t<tr><td>9 </td><td>3</td><td>4.412987</td><td>completa </td></tr>\n",
       "\t<tr><td>12</td><td>1</td><td>2.736364</td><td>completa </td></tr>\n",
       "\t<tr><td>12</td><td>2</td><td>5.246753</td><td>completa </td></tr>\n",
       "\t<tr><td>12</td><td>3</td><td>4.285714</td><td>completa </td></tr>\n",
       "\t<tr><td>2 </td><td>1</td><td>1.838961</td><td>alternada</td></tr>\n",
       "\t<tr><td>2 </td><td>2</td><td>4.196104</td><td>alternada</td></tr>\n",
       "\t<tr><td>2 </td><td>3</td><td>4.315584</td><td>alternada</td></tr>\n",
       "\t<tr><td>4 </td><td>1</td><td>4.325974</td><td>alternada</td></tr>\n",
       "\t<tr><td>4 </td><td>2</td><td>4.400000</td><td>alternada</td></tr>\n",
       "\t<tr><td>4 </td><td>3</td><td>4.945455</td><td>alternada</td></tr>\n",
       "\t<tr><td>6 </td><td>1</td><td>4.050649</td><td>alternada</td></tr>\n",
       "\t<tr><td>6 </td><td>2</td><td>5.075325</td><td>alternada</td></tr>\n",
       "\t<tr><td>6 </td><td>3</td><td>3.940260</td><td>alternada</td></tr>\n",
       "\t<tr><td>8 </td><td>1</td><td>4.263636</td><td>alternada</td></tr>\n",
       "\t<tr><td>8 </td><td>2</td><td>5.045455</td><td>alternada</td></tr>\n",
       "\t<tr><td>8 </td><td>3</td><td>4.266234</td><td>alternada</td></tr>\n",
       "\t<tr><td>10</td><td>1</td><td>2.996104</td><td>alternada</td></tr>\n",
       "\t<tr><td>10</td><td>2</td><td>3.470130</td><td>alternada</td></tr>\n",
       "\t<tr><td>10</td><td>3</td><td>4.200000</td><td>alternada</td></tr>\n",
       "\t<tr><td>11</td><td>1</td><td>4.028571</td><td>alternada</td></tr>\n",
       "\t<tr><td>11</td><td>2</td><td>4.523377</td><td>alternada</td></tr>\n",
       "\t<tr><td>11</td><td>3</td><td>4.181818</td><td>alternada</td></tr>\n",
       "</tbody>\n",
       "</table>\n"
      ],
      "text/latex": [
       "A data.frame: 36 × 4\n",
       "\\begin{tabular}{llll}\n",
       " tratamento & bloco & slope & colheita\\\\\n",
       " <fct> & <fct> & <dbl> & <fct>\\\\\n",
       "\\hline\n",
       "\t 1  & 1 & 4.632468 & completa \\\\\n",
       "\t 1  & 2 & 2.781818 & completa \\\\\n",
       "\t 1  & 3 & 3.636364 & completa \\\\\n",
       "\t 3  & 1 & 4.172727 & completa \\\\\n",
       "\t 3  & 2 & 3.889610 & completa \\\\\n",
       "\t 3  & 3 & 3.498701 & completa \\\\\n",
       "\t 5  & 1 & 3.745455 & completa \\\\\n",
       "\t 5  & 2 & 4.218182 & completa \\\\\n",
       "\t 5  & 3 & 4.172727 & completa \\\\\n",
       "\t 7  & 1 & 4.329870 & completa \\\\\n",
       "\t 7  & 2 & 4.193506 & completa \\\\\n",
       "\t 7  & 3 & 2.742857 & completa \\\\\n",
       "\t 9  & 1 & 3.216883 & completa \\\\\n",
       "\t 9  & 2 & 4.410390 & completa \\\\\n",
       "\t 9  & 3 & 4.412987 & completa \\\\\n",
       "\t 12 & 1 & 2.736364 & completa \\\\\n",
       "\t 12 & 2 & 5.246753 & completa \\\\\n",
       "\t 12 & 3 & 4.285714 & completa \\\\\n",
       "\t 2  & 1 & 1.838961 & alternada\\\\\n",
       "\t 2  & 2 & 4.196104 & alternada\\\\\n",
       "\t 2  & 3 & 4.315584 & alternada\\\\\n",
       "\t 4  & 1 & 4.325974 & alternada\\\\\n",
       "\t 4  & 2 & 4.400000 & alternada\\\\\n",
       "\t 4  & 3 & 4.945455 & alternada\\\\\n",
       "\t 6  & 1 & 4.050649 & alternada\\\\\n",
       "\t 6  & 2 & 5.075325 & alternada\\\\\n",
       "\t 6  & 3 & 3.940260 & alternada\\\\\n",
       "\t 8  & 1 & 4.263636 & alternada\\\\\n",
       "\t 8  & 2 & 5.045455 & alternada\\\\\n",
       "\t 8  & 3 & 4.266234 & alternada\\\\\n",
       "\t 10 & 1 & 2.996104 & alternada\\\\\n",
       "\t 10 & 2 & 3.470130 & alternada\\\\\n",
       "\t 10 & 3 & 4.200000 & alternada\\\\\n",
       "\t 11 & 1 & 4.028571 & alternada\\\\\n",
       "\t 11 & 2 & 4.523377 & alternada\\\\\n",
       "\t 11 & 3 & 4.181818 & alternada\\\\\n",
       "\\end{tabular}\n"
      ],
      "text/markdown": [
       "\n",
       "A data.frame: 36 × 4\n",
       "\n",
       "| tratamento &lt;fct&gt; | bloco &lt;fct&gt; | slope &lt;dbl&gt; | colheita &lt;fct&gt; |\n",
       "|---|---|---|---|\n",
       "| 1  | 1 | 4.632468 | completa  |\n",
       "| 1  | 2 | 2.781818 | completa  |\n",
       "| 1  | 3 | 3.636364 | completa  |\n",
       "| 3  | 1 | 4.172727 | completa  |\n",
       "| 3  | 2 | 3.889610 | completa  |\n",
       "| 3  | 3 | 3.498701 | completa  |\n",
       "| 5  | 1 | 3.745455 | completa  |\n",
       "| 5  | 2 | 4.218182 | completa  |\n",
       "| 5  | 3 | 4.172727 | completa  |\n",
       "| 7  | 1 | 4.329870 | completa  |\n",
       "| 7  | 2 | 4.193506 | completa  |\n",
       "| 7  | 3 | 2.742857 | completa  |\n",
       "| 9  | 1 | 3.216883 | completa  |\n",
       "| 9  | 2 | 4.410390 | completa  |\n",
       "| 9  | 3 | 4.412987 | completa  |\n",
       "| 12 | 1 | 2.736364 | completa  |\n",
       "| 12 | 2 | 5.246753 | completa  |\n",
       "| 12 | 3 | 4.285714 | completa  |\n",
       "| 2  | 1 | 1.838961 | alternada |\n",
       "| 2  | 2 | 4.196104 | alternada |\n",
       "| 2  | 3 | 4.315584 | alternada |\n",
       "| 4  | 1 | 4.325974 | alternada |\n",
       "| 4  | 2 | 4.400000 | alternada |\n",
       "| 4  | 3 | 4.945455 | alternada |\n",
       "| 6  | 1 | 4.050649 | alternada |\n",
       "| 6  | 2 | 5.075325 | alternada |\n",
       "| 6  | 3 | 3.940260 | alternada |\n",
       "| 8  | 1 | 4.263636 | alternada |\n",
       "| 8  | 2 | 5.045455 | alternada |\n",
       "| 8  | 3 | 4.266234 | alternada |\n",
       "| 10 | 1 | 2.996104 | alternada |\n",
       "| 10 | 2 | 3.470130 | alternada |\n",
       "| 10 | 3 | 4.200000 | alternada |\n",
       "| 11 | 1 | 4.028571 | alternada |\n",
       "| 11 | 2 | 4.523377 | alternada |\n",
       "| 11 | 3 | 4.181818 | alternada |\n",
       "\n"
      ],
      "text/plain": [
       "   tratamento bloco slope    colheita \n",
       "1  1          1     4.632468 completa \n",
       "2  1          2     2.781818 completa \n",
       "3  1          3     3.636364 completa \n",
       "4  3          1     4.172727 completa \n",
       "5  3          2     3.889610 completa \n",
       "6  3          3     3.498701 completa \n",
       "7  5          1     3.745455 completa \n",
       "8  5          2     4.218182 completa \n",
       "9  5          3     4.172727 completa \n",
       "10 7          1     4.329870 completa \n",
       "11 7          2     4.193506 completa \n",
       "12 7          3     2.742857 completa \n",
       "13 9          1     3.216883 completa \n",
       "14 9          2     4.410390 completa \n",
       "15 9          3     4.412987 completa \n",
       "16 12         1     2.736364 completa \n",
       "17 12         2     5.246753 completa \n",
       "18 12         3     4.285714 completa \n",
       "19 2          1     1.838961 alternada\n",
       "20 2          2     4.196104 alternada\n",
       "21 2          3     4.315584 alternada\n",
       "22 4          1     4.325974 alternada\n",
       "23 4          2     4.400000 alternada\n",
       "24 4          3     4.945455 alternada\n",
       "25 6          1     4.050649 alternada\n",
       "26 6          2     5.075325 alternada\n",
       "27 6          3     3.940260 alternada\n",
       "28 8          1     4.263636 alternada\n",
       "29 8          2     5.045455 alternada\n",
       "30 8          3     4.266234 alternada\n",
       "31 10         1     2.996104 alternada\n",
       "32 10         2     3.470130 alternada\n",
       "33 10         3     4.200000 alternada\n",
       "34 11         1     4.028571 alternada\n",
       "35 11         2     4.523377 alternada\n",
       "36 11         3     4.181818 alternada"
      ]
     },
     "metadata": {},
     "output_type": "display_data"
    }
   ],
   "source": [
    "tratamentos = c(1,3,5,7,9,12,2,4,6,8,10,11)\n",
    "blocos = c(1,2,3)\n",
    "\n",
    "# slopes <- matrix(nrow = 10, ncol = 3) # Inclinações das retas\n",
    "slopes_ <- c()\n",
    "tratamentos_ <- c()\n",
    "blocos_ <- c()\n",
    "colheitas_ <- c()\n",
    "\n",
    "for(i in tratamentos){\n",
    "    for(j in blocos){\n",
    "        df_trat <- df %>% filter(tratamento == i & bloco == j)\n",
    "        fit <- lm(n_frutos_cum ~ colheita + 0, data = df_trat)\n",
    "        \n",
    "        tratamentos_ <- c(tratamentos_, i)\n",
    "        blocos_ <- c(blocos_, j)\n",
    "        slopes_ <- c(slopes_, fit$coefficients)\n",
    "        colheitas_ <- c(colheitas_, ifelse(i != 12 & i %% 2 == 0 | i == 11, \"alternada\", \"completa\"))\n",
    "    }\n",
    "}\n",
    "\n",
    "df_slopes <- data.frame(tratamento = factor(tratamentos_), bloco = factor(blocos_), slope = slopes_, colheita = factor(colheitas_))\n",
    "df_slopes"
   ]
  },
  {
   "cell_type": "code",
   "execution_count": 4,
   "id": "ace84259-1150-4e1c-8793-8f145da935d5",
   "metadata": {},
   "outputs": [
    {
     "data": {
      "image/png": "[encoded data removed]",
      "text/plain": [
       "plot without title"
      ]
     },
     "metadata": {
      "image/png": {
       "height": 360,
       "width": 900
      }
     },
     "output_type": "display_data"
    }
   ],
   "source": [
    "ggplot(df_slopes)+\n",
    "    facet_grid(~colheita)+\n",
    "    geom_boxplot(aes(x = tratamento, y = slope, color = colheita))"
   ]
  },
  {
   "cell_type": "code",
   "execution_count": 5,
   "id": "23adc212-e7e7-4ca4-9974-c4416e7ac0ae",
   "metadata": {},
   "outputs": [
    {
     "data": {
      "text/plain": [
       "\n",
       "Call:\n",
       "lm(formula = slope ~ tratamento + bloco, data = df_slopes)\n",
       "\n",
       "Residuals:\n",
       "     Min       1Q   Median       3Q      Max \n",
       "-1.29531 -0.31403  0.03521  0.35198  1.26486 \n",
       "\n",
       "Coefficients:\n",
       "             Estimate Std. Error t value Pr(>|t|)    \n",
       "(Intercept)   3.36760    0.45742   7.362 2.28e-07 ***\n",
       "tratamento2  -0.23333    0.59891  -0.390   0.7006    \n",
       "tratamento3   0.17013    0.59891   0.284   0.7790    \n",
       "tratamento4   0.87359    0.59891   1.459   0.1588    \n",
       "tratamento5   0.36190    0.59891   0.604   0.5518    \n",
       "tratamento6   0.67186    0.59891   1.122   0.2740    \n",
       "tratamento7   0.07186    0.59891   0.120   0.9056    \n",
       "tratamento8   0.84156    0.59891   1.405   0.1739    \n",
       "tratamento9   0.32987    0.59891   0.551   0.5873    \n",
       "tratamento10 -0.12814    0.59891  -0.214   0.8326    \n",
       "tratamento11  0.56104    0.59891   0.937   0.3590    \n",
       "tratamento12  0.40606    0.59891   0.678   0.5048    \n",
       "bloco2        0.59275    0.29945   1.979   0.0604 .  \n",
       "bloco3        0.35509    0.29945   1.186   0.2484    \n",
       "---\n",
       "Signif. codes:  0 ‘***’ 0.001 ‘**’ 0.01 ‘*’ 0.05 ‘.’ 0.1 ‘ ’ 1\n",
       "\n",
       "Residual standard error: 0.7335 on 22 degrees of freedom\n",
       "Multiple R-squared:  0.3553,\tAdjusted R-squared:  -0.02567 \n",
       "F-statistic: 0.9326 on 13 and 22 DF,  p-value: 0.5381\n"
      ]
     },
     "metadata": {},
     "output_type": "display_data"
    }
   ],
   "source": [
    "fit <- lm(slope ~ tratamento + bloco, data = df_slopes)\n",
    "s <- summary(fit)\n",
    "s"
   ]
  },
  {
   "cell_type": "markdown",
   "id": "47c555c6-82f1-456d-8c0e-d587cd3e2f83",
   "metadata": {},
   "source": [
    "## ANOVA para cada tipo de colheita"
   ]
  },
  {
   "cell_type": "markdown",
   "id": "b9a3e3f1-f54a-4c3b-8836-200720451502",
   "metadata": {},
   "source": [
    "#### Alternada"
   ]
  },
  {
   "cell_type": "code",
   "execution_count": 6,
   "id": "2cde8b4a-ea99-4fe2-bc04-27c3714079df",
   "metadata": {},
   "outputs": [
    {
     "data": {
      "text/plain": [
       "            Df Sum Sq Mean Sq F value Pr(>F)  \n",
       "tratamento   5  3.580  0.7160   1.996 0.1649  \n",
       "bloco        2  2.596  1.2981   3.618 0.0657 .\n",
       "Residuals   10  3.588  0.3588                 \n",
       "---\n",
       "Signif. codes:  0 ‘***’ 0.001 ‘**’ 0.01 ‘*’ 0.05 ‘.’ 0.1 ‘ ’ 1"
      ]
     },
     "metadata": {},
     "output_type": "display_data"
    }
   ],
   "source": [
    "# Colocar o código shiny\n",
    "df_alternada <- df_slopes %>% filter(colheita == \"alternada\") %>% select(c(tratamento, bloco, slope))\n",
    "\n",
    "df_alternada$tratamento <- factor(df_alternada$tratamento)\n",
    "df_alternada$bloco <- factor(df_alternada$bloco)\n",
    "\n",
    "model_alternada <- aov(slope ~ tratamento + bloco, data = df_alternada)\n",
    "summary(model_alternada)"
   ]
  },
  {
   "cell_type": "code",
   "execution_count": 7,
   "id": "53a26a46-cd73-4a10-be42-c3fdf48d66f0",
   "metadata": {},
   "outputs": [
    {
     "data": {
      "image/png": "[encoded data removed]",
      "text/plain": [
       "Plot with title “95% family-wise confidence level\n",
       "”"
      ]
     },
     "metadata": {
      "image/png": {
       "height": 360,
       "width": 900
      }
     },
     "output_type": "display_data"
    },
    {
     "data": {
      "image/png": "[encoded data removed]",
      "text/plain": [
       "Plot with title “95% family-wise confidence level\n",
       "”"
      ]
     },
     "metadata": {
      "image/png": {
       "height": 360,
       "width": 900
      }
     },
     "output_type": "display_data"
    }
   ],
   "source": [
    "plot(TukeyHSD(model_alternada, conf.level=.95), las = 2)"
   ]
  },
  {
   "cell_type": "markdown",
   "id": "36d0da81-c54c-44be-91f0-9f3f43ad8fdd",
   "metadata": {},
   "source": [
    "#### Completa"
   ]
  },
  {
   "cell_type": "code",
   "execution_count": 8,
   "id": "f04a9a15-bdb3-4744-a98b-1f0588eb57cf",
   "metadata": {},
   "outputs": [
    {
     "data": {
      "text/plain": [
       "            Df Sum Sq Mean Sq F value Pr(>F)\n",
       "tratamento   5  0.419  0.0838   0.114  0.987\n",
       "bloco        2  0.423  0.2113   0.287  0.757\n",
       "Residuals   10  7.366  0.7366               "
      ]
     },
     "metadata": {},
     "output_type": "display_data"
    }
   ],
   "source": [
    "df_completa <- df_slopes %>% filter(colheita == \"completa\") %>% select(c(tratamento, bloco, slope))\n",
    "\n",
    "df_completa$tratamento <- factor(df_completa$tratamento)\n",
    "df_completa$bloco <- factor(df_completa$bloco)\n",
    "\n",
    "model_completa <- aov(slope ~ tratamento + bloco, data = df_completa)\n",
    "summary(model_completa)"
   ]
  },
  {
   "cell_type": "code",
   "execution_count": 9,
   "id": "30dfe614-c90c-451e-b4e5-fe9bbbcb2b40",
   "metadata": {},
   "outputs": [
    {
     "data": {
      "image/png": "[encoded data removed]",
      "text/plain": [
       "Plot with title “95% family-wise confidence level\n",
       "”"
      ]
     },
     "metadata": {
      "image/png": {
       "height": 360,
       "width": 900
      }
     },
     "output_type": "display_data"
    },
    {
     "data": {
      "image/png": "[encoded data removed]",
      "text/plain": [
       "Plot with title “95% family-wise confidence level\n",
       "”"
      ]
     },
     "metadata": {
      "image/png": {
       "height": 360,
       "width": 900
      }
     },
     "output_type": "display_data"
    }
   ],
   "source": [
    "plot(TukeyHSD(model_completa, conf.level=.95), las = 2)"
   ]
  },
  {
   "cell_type": "markdown",
   "id": "2a392c89-656e-4c2a-adc2-fb82921217ba",
   "metadata": {},
   "source": [
    "# Colocar até aqui no SHINY...peso"
   ]
  },
  {
   "cell_type": "markdown",
   "id": "ad0e8bfa-542d-4848-a1f3-788984ca0f20",
   "metadata": {},
   "source": [
    "# Outono - Inverno"
   ]
  },
  {
   "cell_type": "code",
   "execution_count": 12,
   "id": "7ba3cbcd-a602-43f0-8901-37c8165bd15b",
   "metadata": {},
   "outputs": [
    {
     "data": {
      "text/html": [
       "<table class=\"dataframe\">\n",
       "<caption>A data.frame: 6 × 8</caption>\n",
       "<thead>\n",
       "\t<tr><th></th><th scope=col>tratamento</th><th scope=col>bloco</th><th scope=col>colheita</th><th scope=col>n_frutos</th><th scope=col>n_frutos_cum</th><th scope=col>peso</th><th scope=col>comprimento</th><th scope=col>largura</th></tr>\n",
       "\t<tr><th></th><th scope=col>&lt;int&gt;</th><th scope=col>&lt;int&gt;</th><th scope=col>&lt;int&gt;</th><th scope=col>&lt;dbl&gt;</th><th scope=col>&lt;dbl&gt;</th><th scope=col>&lt;dbl&gt;</th><th scope=col>&lt;dbl&gt;</th><th scope=col>&lt;dbl&gt;</th></tr>\n",
       "</thead>\n",
       "<tbody>\n",
       "\t<tr><th scope=row>1</th><td>1</td><td>1</td><td>1</td><td>1.0</td><td> 1.0</td><td> 332.0</td><td>70.00000</td><td>91.50000</td></tr>\n",
       "\t<tr><th scope=row>2</th><td>1</td><td>1</td><td>2</td><td>4.5</td><td> 5.5</td><td>1666.5</td><td>72.00000</td><td>88.77778</td></tr>\n",
       "\t<tr><th scope=row>3</th><td>1</td><td>1</td><td>3</td><td>0.5</td><td> 6.0</td><td> 113.0</td><td>64.00000</td><td>78.00000</td></tr>\n",
       "\t<tr><th scope=row>4</th><td>1</td><td>1</td><td>4</td><td>6.5</td><td>12.5</td><td>1896.5</td><td>70.46154</td><td>85.84615</td></tr>\n",
       "\t<tr><th scope=row>5</th><td>1</td><td>1</td><td>5</td><td>4.5</td><td>17.0</td><td>1126.0</td><td>66.88889</td><td>79.22222</td></tr>\n",
       "\t<tr><th scope=row>6</th><td>1</td><td>2</td><td>1</td><td>0.0</td><td> 0.0</td><td>   0.0</td><td> 0.00000</td><td> 0.00000</td></tr>\n",
       "</tbody>\n",
       "</table>\n"
      ],
      "text/latex": [
       "A data.frame: 6 × 8\n",
       "\\begin{tabular}{r|llllllll}\n",
       "  & tratamento & bloco & colheita & n\\_frutos & n\\_frutos\\_cum & peso & comprimento & largura\\\\\n",
       "  & <int> & <int> & <int> & <dbl> & <dbl> & <dbl> & <dbl> & <dbl>\\\\\n",
       "\\hline\n",
       "\t1 & 1 & 1 & 1 & 1.0 &  1.0 &  332.0 & 70.00000 & 91.50000\\\\\n",
       "\t2 & 1 & 1 & 2 & 4.5 &  5.5 & 1666.5 & 72.00000 & 88.77778\\\\\n",
       "\t3 & 1 & 1 & 3 & 0.5 &  6.0 &  113.0 & 64.00000 & 78.00000\\\\\n",
       "\t4 & 1 & 1 & 4 & 6.5 & 12.5 & 1896.5 & 70.46154 & 85.84615\\\\\n",
       "\t5 & 1 & 1 & 5 & 4.5 & 17.0 & 1126.0 & 66.88889 & 79.22222\\\\\n",
       "\t6 & 1 & 2 & 1 & 0.0 &  0.0 &    0.0 &  0.00000 &  0.00000\\\\\n",
       "\\end{tabular}\n"
      ],
      "text/markdown": [
       "\n",
       "A data.frame: 6 × 8\n",
       "\n",
       "| <!--/--> | tratamento &lt;int&gt; | bloco &lt;int&gt; | colheita &lt;int&gt; | n_frutos &lt;dbl&gt; | n_frutos_cum &lt;dbl&gt; | peso &lt;dbl&gt; | comprimento &lt;dbl&gt; | largura &lt;dbl&gt; |\n",
       "|---|---|---|---|---|---|---|---|---|\n",
       "| 1 | 1 | 1 | 1 | 1.0 |  1.0 |  332.0 | 70.00000 | 91.50000 |\n",
       "| 2 | 1 | 1 | 2 | 4.5 |  5.5 | 1666.5 | 72.00000 | 88.77778 |\n",
       "| 3 | 1 | 1 | 3 | 0.5 |  6.0 |  113.0 | 64.00000 | 78.00000 |\n",
       "| 4 | 1 | 1 | 4 | 6.5 | 12.5 | 1896.5 | 70.46154 | 85.84615 |\n",
       "| 5 | 1 | 1 | 5 | 4.5 | 17.0 | 1126.0 | 66.88889 | 79.22222 |\n",
       "| 6 | 1 | 2 | 1 | 0.0 |  0.0 |    0.0 |  0.00000 |  0.00000 |\n",
       "\n"
      ],
      "text/plain": [
       "  tratamento bloco colheita n_frutos n_frutos_cum peso   comprimento largura \n",
       "1 1          1     1        1.0       1.0          332.0 70.00000    91.50000\n",
       "2 1          1     2        4.5       5.5         1666.5 72.00000    88.77778\n",
       "3 1          1     3        0.5       6.0          113.0 64.00000    78.00000\n",
       "4 1          1     4        6.5      12.5         1896.5 70.46154    85.84615\n",
       "5 1          1     5        4.5      17.0         1126.0 66.88889    79.22222\n",
       "6 1          2     1        0.0       0.0            0.0  0.00000     0.00000"
      ]
     },
     "metadata": {},
     "output_type": "display_data"
    }
   ],
   "source": [
    "df <- read.csv(\"df_n_frutos_cum_oi.csv\")\n",
    "head(df, 6)"
   ]
  },
  {
   "cell_type": "code",
   "execution_count": 13,
   "id": "b29013c6-6ea6-457a-b965-f891a339f11d",
   "metadata": {},
   "outputs": [
    {
     "data": {
      "text/html": [
       "<table class=\"dataframe\">\n",
       "<caption>A data.frame: 6 × 4</caption>\n",
       "<thead>\n",
       "\t<tr><th></th><th scope=col>tratamento</th><th scope=col>bloco</th><th scope=col>slope</th><th scope=col>colheita</th></tr>\n",
       "\t<tr><th></th><th scope=col>&lt;dbl&gt;</th><th scope=col>&lt;dbl&gt;</th><th scope=col>&lt;dbl&gt;</th><th scope=col>&lt;chr&gt;</th></tr>\n",
       "</thead>\n",
       "<tbody>\n",
       "\t<tr><th scope=row>1</th><td>1</td><td>1</td><td>3.000000</td><td>completa</td></tr>\n",
       "\t<tr><th scope=row>2</th><td>1</td><td>2</td><td>2.427273</td><td>completa</td></tr>\n",
       "\t<tr><th scope=row>3</th><td>1</td><td>3</td><td>2.636364</td><td>completa</td></tr>\n",
       "\t<tr><th scope=row>4</th><td>3</td><td>1</td><td>3.309091</td><td>completa</td></tr>\n",
       "\t<tr><th scope=row>5</th><td>3</td><td>2</td><td>2.527273</td><td>completa</td></tr>\n",
       "\t<tr><th scope=row>6</th><td>3</td><td>3</td><td>2.154545</td><td>completa</td></tr>\n",
       "</tbody>\n",
       "</table>\n"
      ],
      "text/latex": [
       "A data.frame: 6 × 4\n",
       "\\begin{tabular}{r|llll}\n",
       "  & tratamento & bloco & slope & colheita\\\\\n",
       "  & <dbl> & <dbl> & <dbl> & <chr>\\\\\n",
       "\\hline\n",
       "\t1 & 1 & 1 & 3.000000 & completa\\\\\n",
       "\t2 & 1 & 2 & 2.427273 & completa\\\\\n",
       "\t3 & 1 & 3 & 2.636364 & completa\\\\\n",
       "\t4 & 3 & 1 & 3.309091 & completa\\\\\n",
       "\t5 & 3 & 2 & 2.527273 & completa\\\\\n",
       "\t6 & 3 & 3 & 2.154545 & completa\\\\\n",
       "\\end{tabular}\n"
      ],
      "text/markdown": [
       "\n",
       "A data.frame: 6 × 4\n",
       "\n",
       "| <!--/--> | tratamento &lt;dbl&gt; | bloco &lt;dbl&gt; | slope &lt;dbl&gt; | colheita &lt;chr&gt; |\n",
       "|---|---|---|---|---|\n",
       "| 1 | 1 | 1 | 3.000000 | completa |\n",
       "| 2 | 1 | 2 | 2.427273 | completa |\n",
       "| 3 | 1 | 3 | 2.636364 | completa |\n",
       "| 4 | 3 | 1 | 3.309091 | completa |\n",
       "| 5 | 3 | 2 | 2.527273 | completa |\n",
       "| 6 | 3 | 3 | 2.154545 | completa |\n",
       "\n"
      ],
      "text/plain": [
       "  tratamento bloco slope    colheita\n",
       "1 1          1     3.000000 completa\n",
       "2 1          2     2.427273 completa\n",
       "3 1          3     2.636364 completa\n",
       "4 3          1     3.309091 completa\n",
       "5 3          2     2.527273 completa\n",
       "6 3          3     2.154545 completa"
      ]
     },
     "metadata": {},
     "output_type": "display_data"
    }
   ],
   "source": [
    "tratamentos = c(1,3,5,7,9,12,2,4,6,8,10,11)\n",
    "blocos = c(1,2,3)\n",
    "\n",
    "# slopes <- matrix(nrow = 10, ncol = 3) # Inclinações das retas\n",
    "slopes_ <- c()\n",
    "tratamentos_ <- c()\n",
    "blocos_ <- c()\n",
    "colheitas_ <- c()\n",
    "\n",
    "for(i in tratamentos){\n",
    "    for(j in blocos){\n",
    "        df_trat <- df %>% filter(tratamento == i & bloco == j)\n",
    "        fit <- lm(n_frutos_cum ~ colheita + 0, data = df_trat)\n",
    "        \n",
    "        tratamentos_ <- c(tratamentos_, i)\n",
    "        blocos_ <- c(blocos_, j)\n",
    "        slopes_ <- c(slopes_, fit$coefficients)\n",
    "        colheitas_ <- c(colheitas_, ifelse(i != 12 & i %% 2 == 0 | i == 11, \"alternada\", \"completa\"))\n",
    "    }\n",
    "}\n",
    "\n",
    "head( data.frame(tratamento = tratamentos_, bloco = blocos_, slope = slopes_, colheita = colheitas_) )"
   ]
  },
  {
   "cell_type": "code",
   "execution_count": 14,
   "id": "d8a19285-d7a7-471c-bb2c-1d66131376ce",
   "metadata": {},
   "outputs": [
    {
     "data": {
      "text/plain": [
       "\n",
       "Call:\n",
       "lm(formula = slope ~ tratamento + bloco, data = df_slopes)\n",
       "\n",
       "Residuals:\n",
       "    Min      1Q  Median      3Q     Max \n",
       "-1.1331 -0.3022  0.0654  0.3646  0.5995 \n",
       "\n",
       "Coefficients:\n",
       "               Estimate Std. Error t value Pr(>|t|)    \n",
       "(Intercept)   3.136e+00  3.395e-01   9.237 5.02e-09 ***\n",
       "tratamento2   4.909e-01  4.446e-01   1.104  0.28141    \n",
       "tratamento3  -2.424e-02  4.446e-01  -0.055  0.95700    \n",
       "tratamento4  -5.364e-01  4.446e-01  -1.207  0.24043    \n",
       "tratamento5   2.159e-15  4.446e-01   0.000  1.00000    \n",
       "tratamento6   3.303e-01  4.446e-01   0.743  0.46534    \n",
       "tratamento7  -3.030e-01  4.446e-01  -0.682  0.50257    \n",
       "tratamento8   9.697e-02  4.446e-01   0.218  0.82934    \n",
       "tratamento9   2.606e-01  4.446e-01   0.586  0.56369    \n",
       "tratamento10 -1.727e-01  4.446e-01  -0.389  0.70135    \n",
       "tratamento11  4.394e-01  4.446e-01   0.988  0.33371    \n",
       "tratamento12 -1.879e-01  4.446e-01  -0.423  0.67667    \n",
       "bloco2       -6.970e-01  2.223e-01  -3.136  0.00481 ** \n",
       "bloco3       -6.477e-01  2.223e-01  -2.914  0.00804 ** \n",
       "---\n",
       "Signif. codes:  0 ‘***’ 0.001 ‘**’ 0.01 ‘*’ 0.05 ‘.’ 0.1 ‘ ’ 1\n",
       "\n",
       "Residual standard error: 0.5445 on 22 degrees of freedom\n",
       "Multiple R-squared:  0.5101,\tAdjusted R-squared:  0.2205 \n",
       "F-statistic: 1.762 on 13 and 22 DF,  p-value: 0.1168\n"
      ]
     },
     "metadata": {},
     "output_type": "display_data"
    }
   ],
   "source": [
    "df_slopes <- data.frame(tratamento = factor(tratamentos_), bloco = factor(blocos_), slope = slopes_, colheita = factor(colheitas_))\n",
    "\n",
    "fit <- lm(slope ~ tratamento + bloco, data = df_slopes)\n",
    "s <- summary(fit)\n",
    "s"
   ]
  },
  {
   "cell_type": "code",
   "execution_count": 15,
   "id": "a96c91fb-d5ac-4613-9abb-7e64fcfbb52c",
   "metadata": {},
   "outputs": [
    {
     "data": {
      "image/png": "[encoded data removed]",
      "text/plain": [
       "plot without title"
      ]
     },
     "metadata": {
      "image/png": {
       "height": 360,
       "width": 900
      }
     },
     "output_type": "display_data"
    }
   ],
   "source": [
    "ggplot(df_slopes)+\n",
    "    facet_grid(~colheita)+\n",
    "    geom_boxplot(aes(x = tratamento, y = slope, color = colheita))"
   ]
  },
  {
   "cell_type": "markdown",
   "id": "44cd99df-ee94-49e5-adaf-bed7858a2476",
   "metadata": {},
   "source": [
    "## ANOVA para cada tipo de colheita"
   ]
  },
  {
   "cell_type": "markdown",
   "id": "72a7319e-6348-45ed-a247-5ecb72e785e2",
   "metadata": {},
   "source": [
    "#### Alternada"
   ]
  },
  {
   "cell_type": "code",
   "execution_count": 16,
   "id": "782781e4-8cb9-40a4-ab00-66587c50c1c8",
   "metadata": {},
   "outputs": [
    {
     "data": {
      "text/html": [
       "<table class=\"dataframe\">\n",
       "<caption>A data.frame: 6 × 4</caption>\n",
       "<thead>\n",
       "\t<tr><th></th><th scope=col>tratamento</th><th scope=col>bloco</th><th scope=col>slope</th><th scope=col>colheita</th></tr>\n",
       "\t<tr><th></th><th scope=col>&lt;fct&gt;</th><th scope=col>&lt;fct&gt;</th><th scope=col>&lt;dbl&gt;</th><th scope=col>&lt;fct&gt;</th></tr>\n",
       "</thead>\n",
       "<tbody>\n",
       "\t<tr><th scope=row>1</th><td>1</td><td>1</td><td>3.000000</td><td>completa</td></tr>\n",
       "\t<tr><th scope=row>2</th><td>1</td><td>2</td><td>2.427273</td><td>completa</td></tr>\n",
       "\t<tr><th scope=row>3</th><td>1</td><td>3</td><td>2.636364</td><td>completa</td></tr>\n",
       "\t<tr><th scope=row>4</th><td>3</td><td>1</td><td>3.309091</td><td>completa</td></tr>\n",
       "\t<tr><th scope=row>5</th><td>3</td><td>2</td><td>2.527273</td><td>completa</td></tr>\n",
       "\t<tr><th scope=row>6</th><td>3</td><td>3</td><td>2.154545</td><td>completa</td></tr>\n",
       "</tbody>\n",
       "</table>\n"
      ],
      "text/latex": [
       "A data.frame: 6 × 4\n",
       "\\begin{tabular}{r|llll}\n",
       "  & tratamento & bloco & slope & colheita\\\\\n",
       "  & <fct> & <fct> & <dbl> & <fct>\\\\\n",
       "\\hline\n",
       "\t1 & 1 & 1 & 3.000000 & completa\\\\\n",
       "\t2 & 1 & 2 & 2.427273 & completa\\\\\n",
       "\t3 & 1 & 3 & 2.636364 & completa\\\\\n",
       "\t4 & 3 & 1 & 3.309091 & completa\\\\\n",
       "\t5 & 3 & 2 & 2.527273 & completa\\\\\n",
       "\t6 & 3 & 3 & 2.154545 & completa\\\\\n",
       "\\end{tabular}\n"
      ],
      "text/markdown": [
       "\n",
       "A data.frame: 6 × 4\n",
       "\n",
       "| <!--/--> | tratamento &lt;fct&gt; | bloco &lt;fct&gt; | slope &lt;dbl&gt; | colheita &lt;fct&gt; |\n",
       "|---|---|---|---|---|\n",
       "| 1 | 1 | 1 | 3.000000 | completa |\n",
       "| 2 | 1 | 2 | 2.427273 | completa |\n",
       "| 3 | 1 | 3 | 2.636364 | completa |\n",
       "| 4 | 3 | 1 | 3.309091 | completa |\n",
       "| 5 | 3 | 2 | 2.527273 | completa |\n",
       "| 6 | 3 | 3 | 2.154545 | completa |\n",
       "\n"
      ],
      "text/plain": [
       "  tratamento bloco slope    colheita\n",
       "1 1          1     3.000000 completa\n",
       "2 1          2     2.427273 completa\n",
       "3 1          3     2.636364 completa\n",
       "4 3          1     3.309091 completa\n",
       "5 3          2     2.527273 completa\n",
       "6 3          3     2.154545 completa"
      ]
     },
     "metadata": {},
     "output_type": "display_data"
    }
   ],
   "source": [
    "head(df_slopes)"
   ]
  },
  {
   "cell_type": "code",
   "execution_count": 17,
   "id": "43c57ab1-9976-4bb9-bd0d-28ea8a3be3bc",
   "metadata": {},
   "outputs": [],
   "source": [
    "df_alternada <- df_slopes %>% filter(colheita == \"alternada\") %>% select(c(tratamento, bloco, slope))\n",
    "\n",
    "df_alternada$tratamento <- factor(df_alternada$tratamento)\n",
    "df_alternada$bloco <- factor(df_alternada$bloco)"
   ]
  },
  {
   "cell_type": "code",
   "execution_count": 18,
   "id": "81993d34-dccb-48bd-8080-ed947ba3a71b",
   "metadata": {},
   "outputs": [
    {
     "data": {
      "text/plain": [
       "            Df Sum Sq Mean Sq F value Pr(>F)  \n",
       "tratamento   5  2.400  0.4800   1.324 0.3292  \n",
       "bloco        2  3.060  1.5300   4.220 0.0469 *\n",
       "Residuals   10  3.626  0.3626                 \n",
       "---\n",
       "Signif. codes:  0 ‘***’ 0.001 ‘**’ 0.01 ‘*’ 0.05 ‘.’ 0.1 ‘ ’ 1"
      ]
     },
     "metadata": {},
     "output_type": "display_data"
    }
   ],
   "source": [
    "model_alternada <- aov(slope ~ tratamento + bloco, data = df_alternada)\n",
    "summary(model_alternada)"
   ]
  },
  {
   "cell_type": "markdown",
   "id": "41a7c31f-d8ba-42f8-884b-58469a1c8756",
   "metadata": {},
   "source": [
    "Não sendo significativa a variável tratamento, não seria necessária a elaboração do teste de Tukey 2 a 2."
   ]
  },
  {
   "cell_type": "markdown",
   "id": "a93ffa21-bb19-4cb7-a19d-7bea5bc69b99",
   "metadata": {},
   "source": [
    "#### Completa"
   ]
  },
  {
   "cell_type": "code",
   "execution_count": 20,
   "id": "78228659-2571-4faa-9068-e68941efa091",
   "metadata": {},
   "outputs": [],
   "source": [
    "df_completa <- df_slopes %>% filter(colheita == \"completa\") %>% select(c(tratamento, bloco, slope))\n",
    "\n",
    "df_completa$tratamento <- factor(df_completa$tratamento)\n",
    "df_completa$bloco <- factor(df_completa$bloco)"
   ]
  },
  {
   "cell_type": "code",
   "execution_count": 21,
   "id": "d24787fc-b00f-4b10-ad0d-3b7c261ca776",
   "metadata": {},
   "outputs": [
    {
     "data": {
      "text/plain": [
       "            Df Sum Sq Mean Sq F value Pr(>F)\n",
       "tratamento   5 0.5545  0.1109   0.438  0.812\n",
       "bloco        2 0.9351  0.4675   1.847  0.208\n",
       "Residuals   10 2.5318  0.2532               "
      ]
     },
     "metadata": {},
     "output_type": "display_data"
    }
   ],
   "source": [
    "model_completa <- aov(slope ~ tratamento + bloco, data = df_completa)\n",
    "summary(model_completa)"
   ]
  }
 ],
 "metadata": {
  "kernelspec": {
   "display_name": "R",
   "language": "R",
   "name": "ir"
  },
  "language_info": {
   "codemirror_mode": "r",
   "file_extension": ".r",
   "mimetype": "text/x-r-source",
   "name": "R",
   "pygments_lexer": "r",
   "version": "4.2.2"
  }
 },
 "nbformat": 4,
 "nbformat_minor": 5
}
