{
 "cells": [
  {
   "cell_type": "code",
   "execution_count": 2,
   "id": "9eecb847-8a8b-418d-9152-eb197e17edb0",
   "metadata": {},
   "outputs": [],
   "source": [
    "library(dplyr)\n",
    "library(tidyverse)\n",
    "\n",
    "library(ggplot2)\n",
    "library(cowplot)\n",
    "\n",
    "library(readxl)\n",
    "\n",
    "options(repr.plot.width=15, repr.plot.height=6)"
   ]
  },
  {
   "cell_type": "code",
   "execution_count": 5,
   "id": "2c361915-aa9f-4453-853f-cd7d04257070",
   "metadata": {},
   "outputs": [
    {
     "data": {
      "text/html": [
       "<table class=\"dataframe\">\n",
       "<caption>A data.frame: 6 × 8</caption>\n",
       "<thead>\n",
       "\t<tr><th></th><th scope=col>tratamento</th><th scope=col>bloco</th><th scope=col>colheita</th><th scope=col>n_frutos</th><th scope=col>n_frutos_cum</th><th scope=col>peso</th><th scope=col>comprimento</th><th scope=col>largura</th></tr>\n",
       "\t<tr><th></th><th scope=col>&lt;int&gt;</th><th scope=col>&lt;int&gt;</th><th scope=col>&lt;int&gt;</th><th scope=col>&lt;dbl&gt;</th><th scope=col>&lt;dbl&gt;</th><th scope=col>&lt;dbl&gt;</th><th scope=col>&lt;dbl&gt;</th><th scope=col>&lt;dbl&gt;</th></tr>\n",
       "</thead>\n",
       "<tbody>\n",
       "\t<tr><th scope=row>1</th><td>1</td><td>1</td><td>1</td><td> 1.5</td><td> 1.5</td><td> 309.0</td><td>62.33333</td><td>82.33333</td></tr>\n",
       "\t<tr><th scope=row>2</th><td>1</td><td>1</td><td>2</td><td> 6.5</td><td> 8.0</td><td>1489.0</td><td>60.76923</td><td>77.23077</td></tr>\n",
       "\t<tr><th scope=row>3</th><td>1</td><td>1</td><td>3</td><td> 1.5</td><td> 9.5</td><td> 340.5</td><td>51.00000</td><td>79.00000</td></tr>\n",
       "\t<tr><th scope=row>4</th><td>1</td><td>1</td><td>4</td><td> 7.0</td><td>16.5</td><td>1288.0</td><td>54.64286</td><td>71.14286</td></tr>\n",
       "\t<tr><th scope=row>5</th><td>1</td><td>1</td><td>5</td><td>10.0</td><td>26.5</td><td>2119.0</td><td>64.10000</td><td>77.00000</td></tr>\n",
       "\t<tr><th scope=row>6</th><td>1</td><td>1</td><td>6</td><td> 3.0</td><td>29.5</td><td> 785.0</td><td>70.66667</td><td>85.00000</td></tr>\n",
       "</tbody>\n",
       "</table>\n"
      ],
      "text/latex": [
       "A data.frame: 6 × 8\n",
       "\\begin{tabular}{r|llllllll}\n",
       "  & tratamento & bloco & colheita & n\\_frutos & n\\_frutos\\_cum & peso & comprimento & largura\\\\\n",
       "  & <int> & <int> & <int> & <dbl> & <dbl> & <dbl> & <dbl> & <dbl>\\\\\n",
       "\\hline\n",
       "\t1 & 1 & 1 & 1 &  1.5 &  1.5 &  309.0 & 62.33333 & 82.33333\\\\\n",
       "\t2 & 1 & 1 & 2 &  6.5 &  8.0 & 1489.0 & 60.76923 & 77.23077\\\\\n",
       "\t3 & 1 & 1 & 3 &  1.5 &  9.5 &  340.5 & 51.00000 & 79.00000\\\\\n",
       "\t4 & 1 & 1 & 4 &  7.0 & 16.5 & 1288.0 & 54.64286 & 71.14286\\\\\n",
       "\t5 & 1 & 1 & 5 & 10.0 & 26.5 & 2119.0 & 64.10000 & 77.00000\\\\\n",
       "\t6 & 1 & 1 & 6 &  3.0 & 29.5 &  785.0 & 70.66667 & 85.00000\\\\\n",
       "\\end{tabular}\n"
      ],
      "text/markdown": [
       "\n",
       "A data.frame: 6 × 8\n",
       "\n",
       "| <!--/--> | tratamento &lt;int&gt; | bloco &lt;int&gt; | colheita &lt;int&gt; | n_frutos &lt;dbl&gt; | n_frutos_cum &lt;dbl&gt; | peso &lt;dbl&gt; | comprimento &lt;dbl&gt; | largura &lt;dbl&gt; |\n",
       "|---|---|---|---|---|---|---|---|---|\n",
       "| 1 | 1 | 1 | 1 |  1.5 |  1.5 |  309.0 | 62.33333 | 82.33333 |\n",
       "| 2 | 1 | 1 | 2 |  6.5 |  8.0 | 1489.0 | 60.76923 | 77.23077 |\n",
       "| 3 | 1 | 1 | 3 |  1.5 |  9.5 |  340.5 | 51.00000 | 79.00000 |\n",
       "| 4 | 1 | 1 | 4 |  7.0 | 16.5 | 1288.0 | 54.64286 | 71.14286 |\n",
       "| 5 | 1 | 1 | 5 | 10.0 | 26.5 | 2119.0 | 64.10000 | 77.00000 |\n",
       "| 6 | 1 | 1 | 6 |  3.0 | 29.5 |  785.0 | 70.66667 | 85.00000 |\n",
       "\n"
      ],
      "text/plain": [
       "  tratamento bloco colheita n_frutos n_frutos_cum peso   comprimento largura \n",
       "1 1          1     1         1.5      1.5          309.0 62.33333    82.33333\n",
       "2 1          1     2         6.5      8.0         1489.0 60.76923    77.23077\n",
       "3 1          1     3         1.5      9.5          340.5 51.00000    79.00000\n",
       "4 1          1     4         7.0     16.5         1288.0 54.64286    71.14286\n",
       "5 1          1     5        10.0     26.5         2119.0 64.10000    77.00000\n",
       "6 1          1     6         3.0     29.5          785.0 70.66667    85.00000"
      ]
     },
     "metadata": {},
     "output_type": "display_data"
    }
   ],
   "source": [
    "df <- read.csv(\"df_n_frutos_cum.csv\")\n",
    "head(df, 6)"
   ]
  },
  {
   "cell_type": "code",
   "execution_count": 34,
   "id": "eb068a47-a18b-423b-9957-f517787f3e60",
   "metadata": {},
   "outputs": [
    {
     "data": {
      "text/html": [
       "<style>\n",
       ".list-inline {list-style: none; margin:0; padding: 0}\n",
       ".list-inline>li {display: inline-block}\n",
       ".list-inline>li:not(:last-child)::after {content: \"\\00b7\"; padding: 0 .5ex}\n",
       "</style>\n",
       "<ol class=list-inline><li>1</li><li>2</li><li>3</li><li>4</li><li>5</li><li>6</li><li>7</li><li>8</li><li>9</li><li>10</li></ol>\n"
      ],
      "text/latex": [
       "\\begin{enumerate*}\n",
       "\\item 1\n",
       "\\item 2\n",
       "\\item 3\n",
       "\\item 4\n",
       "\\item 5\n",
       "\\item 6\n",
       "\\item 7\n",
       "\\item 8\n",
       "\\item 9\n",
       "\\item 10\n",
       "\\end{enumerate*}\n"
      ],
      "text/markdown": [
       "1. 1\n",
       "2. 2\n",
       "3. 3\n",
       "4. 4\n",
       "5. 5\n",
       "6. 6\n",
       "7. 7\n",
       "8. 8\n",
       "9. 9\n",
       "10. 10\n",
       "\n",
       "\n"
      ],
      "text/plain": [
       " [1]  1  2  3  4  5  6  7  8  9 10"
      ]
     },
     "metadata": {},
     "output_type": "display_data"
    }
   ],
   "source": [
    "tratamentos"
   ]
  },
  {
   "cell_type": "code",
   "execution_count": 54,
   "id": "3c477fd1-36ac-415c-8e68-ce6f5127a17d",
   "metadata": {},
   "outputs": [
    {
     "data": {
      "text/html": [
       "0"
      ],
      "text/latex": [
       "0"
      ],
      "text/markdown": [
       "0"
      ],
      "text/plain": [
       "[1] 0"
      ]
     },
     "metadata": {},
     "output_type": "display_data"
    }
   ],
   "source": [
    "2 %% 2"
   ]
  },
  {
   "cell_type": "code",
   "execution_count": 55,
   "id": "35181890-a283-4284-b303-c2dd65f20bd7",
   "metadata": {},
   "outputs": [
    {
     "data": {
      "text/html": [
       "<table class=\"dataframe\">\n",
       "<caption>A data.frame: 6 × 4</caption>\n",
       "<thead>\n",
       "\t<tr><th></th><th scope=col>tratamento</th><th scope=col>bloco</th><th scope=col>slope</th><th scope=col>colheita</th></tr>\n",
       "\t<tr><th></th><th scope=col>&lt;dbl&gt;</th><th scope=col>&lt;dbl&gt;</th><th scope=col>&lt;dbl&gt;</th><th scope=col>&lt;chr&gt;</th></tr>\n",
       "</thead>\n",
       "<tbody>\n",
       "\t<tr><th scope=row>1</th><td>1</td><td>1</td><td>4.632468</td><td>completa </td></tr>\n",
       "\t<tr><th scope=row>2</th><td>1</td><td>2</td><td>2.781818</td><td>completa </td></tr>\n",
       "\t<tr><th scope=row>3</th><td>1</td><td>3</td><td>3.636364</td><td>completa </td></tr>\n",
       "\t<tr><th scope=row>4</th><td>2</td><td>1</td><td>1.838961</td><td>alternada</td></tr>\n",
       "\t<tr><th scope=row>5</th><td>2</td><td>2</td><td>4.196104</td><td>alternada</td></tr>\n",
       "\t<tr><th scope=row>6</th><td>2</td><td>3</td><td>4.315584</td><td>alternada</td></tr>\n",
       "</tbody>\n",
       "</table>\n"
      ],
      "text/latex": [
       "A data.frame: 6 × 4\n",
       "\\begin{tabular}{r|llll}\n",
       "  & tratamento & bloco & slope & colheita\\\\\n",
       "  & <dbl> & <dbl> & <dbl> & <chr>\\\\\n",
       "\\hline\n",
       "\t1 & 1 & 1 & 4.632468 & completa \\\\\n",
       "\t2 & 1 & 2 & 2.781818 & completa \\\\\n",
       "\t3 & 1 & 3 & 3.636364 & completa \\\\\n",
       "\t4 & 2 & 1 & 1.838961 & alternada\\\\\n",
       "\t5 & 2 & 2 & 4.196104 & alternada\\\\\n",
       "\t6 & 2 & 3 & 4.315584 & alternada\\\\\n",
       "\\end{tabular}\n"
      ],
      "text/markdown": [
       "\n",
       "A data.frame: 6 × 4\n",
       "\n",
       "| <!--/--> | tratamento &lt;dbl&gt; | bloco &lt;dbl&gt; | slope &lt;dbl&gt; | colheita &lt;chr&gt; |\n",
       "|---|---|---|---|---|\n",
       "| 1 | 1 | 1 | 4.632468 | completa  |\n",
       "| 2 | 1 | 2 | 2.781818 | completa  |\n",
       "| 3 | 1 | 3 | 3.636364 | completa  |\n",
       "| 4 | 2 | 1 | 1.838961 | alternada |\n",
       "| 5 | 2 | 2 | 4.196104 | alternada |\n",
       "| 6 | 2 | 3 | 4.315584 | alternada |\n",
       "\n"
      ],
      "text/plain": [
       "  tratamento bloco slope    colheita \n",
       "1 1          1     4.632468 completa \n",
       "2 1          2     2.781818 completa \n",
       "3 1          3     3.636364 completa \n",
       "4 2          1     1.838961 alternada\n",
       "5 2          2     4.196104 alternada\n",
       "6 2          3     4.315584 alternada"
      ]
     },
     "metadata": {},
     "output_type": "display_data"
    }
   ],
   "source": [
    "tratamentos = c(1,2,3,4,5,6,7,8,9,10)\n",
    "blocos = c(1,2,3)\n",
    "\n",
    "# slopes <- matrix(nrow = 10, ncol = 3) # Inclinações das retas\n",
    "slopes_ <- c()\n",
    "tratamentos_ <- c()\n",
    "blocos_ <- c()\n",
    "colheitas_ <- c()\n",
    "\n",
    "for(i in tratamentos){\n",
    "    for(j in blocos){\n",
    "        df_trat <- df %>% filter(tratamento == i & bloco == j)\n",
    "        fit <- lm(n_frutos_cum ~ colheita + 0, data = df_trat)\n",
    "        \n",
    "        tratamentos_ <- c(tratamentos_, i)\n",
    "        blocos_ <- c(blocos_, j)\n",
    "        slopes_ <- c(slopes_, fit$coefficients)\n",
    "        colheitas_ <- c(colheitas_, ifelse(i %% 2 == 0, \"alternada\", \"completa\"))\n",
    "    }\n",
    "}\n",
    "\n",
    "head( data.frame(tratamento = tratamentos_, bloco = blocos_, slope = slopes_, colheita = colheitas_) )"
   ]
  },
  {
   "cell_type": "code",
   "execution_count": 65,
   "id": "23adc212-e7e7-4ca4-9974-c4416e7ac0ae",
   "metadata": {},
   "outputs": [
    {
     "data": {
      "text/plain": [
       "\n",
       "Call:\n",
       "lm(formula = slope ~ tratamento + bloco, data = df_slopes)\n",
       "\n",
       "Residuals:\n",
       "     Min       1Q   Median       3Q      Max \n",
       "-1.38905 -0.32595 -0.02755  0.36312  1.17113 \n",
       "\n",
       "Coefficients:\n",
       "             Estimate Std. Error t value Pr(>|t|)    \n",
       "(Intercept)   3.46134    0.46606   7.427 6.95e-07 ***\n",
       "tratamento2  -0.23333    0.60168  -0.388    0.703    \n",
       "tratamento3   0.17013    0.60168   0.283    0.781    \n",
       "tratamento4   0.87359    0.60168   1.452    0.164    \n",
       "tratamento5   0.36190    0.60168   0.601    0.555    \n",
       "tratamento6   0.67186    0.60168   1.117    0.279    \n",
       "tratamento7   0.07186    0.60168   0.119    0.906    \n",
       "tratamento8   0.84156    0.60168   1.399    0.179    \n",
       "tratamento9   0.32987    0.60168   0.548    0.590    \n",
       "tratamento10 -0.12814    0.60168  -0.213    0.834    \n",
       "bloco2        0.41078    0.32956   1.246    0.229    \n",
       "bloco3        0.25584    0.32956   0.776    0.448    \n",
       "---\n",
       "Signif. codes:  0 ‘***’ 0.001 ‘**’ 0.01 ‘*’ 0.05 ‘.’ 0.1 ‘ ’ 1\n",
       "\n",
       "Residual standard error: 0.7369 on 18 degrees of freedom\n",
       "Multiple R-squared:   0.34,\tAdjusted R-squared:  -0.06329 \n",
       "F-statistic: 0.8431 on 11 and 18 DF,  p-value: 0.604\n"
      ]
     },
     "metadata": {},
     "output_type": "display_data"
    }
   ],
   "source": [
    "df_slopes <- data.frame(tratamento = factor(tratamentos_), bloco = factor(blocos_), slope = slopes_, colheita = factor(colheitas_))\n",
    "\n",
    "fit <- lm(slope ~ tratamento + bloco, data = df_slopes)\n",
    "s <- summary(fit)\n",
    "s"
   ]
  },
  {
   "cell_type": "code",
   "execution_count": 61,
   "id": "87ebe7b6-fe3d-4e8b-8201-413cdd9bb426",
   "metadata": {},
   "outputs": [
    {
     "data": {
      "image/png": "[encoded data removed]",
      "text/plain": [
       "plot without title"
      ]
     },
     "metadata": {
      "image/png": {
       "height": 360,
       "width": 900
      }
     },
     "output_type": "display_data"
    }
   ],
   "source": [
    "ggplot(df_slopes)+\n",
    "    geom_boxplot(aes(x = tratamento, y = slope, color = colheita))"
   ]
  },
  {
   "cell_type": "code",
   "execution_count": 67,
   "id": "257d9752-ffd2-4d86-a142-e2a8fdc3bc0b",
   "metadata": {},
   "outputs": [
    {
     "data": {
      "text/html": [
       "<style>\n",
       ".dl-inline {width: auto; margin:0; padding: 0}\n",
       ".dl-inline>dt, .dl-inline>dd {float: none; width: auto; display: inline-block}\n",
       ".dl-inline>dt::after {content: \":\\0020\"; padding-right: .5ex}\n",
       ".dl-inline>dt:not(:first-of-type) {padding-left: .5ex}\n",
       "</style><dl class=dl-inline><dt>(Intercept)</dt><dd>0.4</dd><dt>tratamento2</dt><dd>0.666666666666668</dd><dt>tratamento3</dt><dd>0.666666666666668</dd><dt>tratamento4</dt><dd>0.666666666666668</dd><dt>tratamento5</dt><dd>0.666666666666668</dd><dt>tratamento6</dt><dd>0.666666666666667</dd><dt>tratamento7</dt><dd>0.666666666666667</dd><dt>tratamento8</dt><dd>0.666666666666667</dd><dt>tratamento9</dt><dd>0.666666666666667</dd><dt>tratamento10</dt><dd>0.666666666666667</dd><dt>bloco2</dt><dd>0.2</dd><dt>bloco3</dt><dd>0.2</dd></dl>\n"
      ],
      "text/latex": [
       "\\begin{description*}\n",
       "\\item[(Intercept)] 0.4\n",
       "\\item[tratamento2] 0.666666666666668\n",
       "\\item[tratamento3] 0.666666666666668\n",
       "\\item[tratamento4] 0.666666666666668\n",
       "\\item[tratamento5] 0.666666666666668\n",
       "\\item[tratamento6] 0.666666666666667\n",
       "\\item[tratamento7] 0.666666666666667\n",
       "\\item[tratamento8] 0.666666666666667\n",
       "\\item[tratamento9] 0.666666666666667\n",
       "\\item[tratamento10] 0.666666666666667\n",
       "\\item[bloco2] 0.2\n",
       "\\item[bloco3] 0.2\n",
       "\\end{description*}\n"
      ],
      "text/markdown": [
       "(Intercept)\n",
       ":   0.4tratamento2\n",
       ":   0.666666666666668tratamento3\n",
       ":   0.666666666666668tratamento4\n",
       ":   0.666666666666668tratamento5\n",
       ":   0.666666666666668tratamento6\n",
       ":   0.666666666666667tratamento7\n",
       ":   0.666666666666667tratamento8\n",
       ":   0.666666666666667tratamento9\n",
       ":   0.666666666666667tratamento10\n",
       ":   0.666666666666667bloco2\n",
       ":   0.2bloco3\n",
       ":   0.2\n",
       "\n"
      ],
      "text/plain": [
       " (Intercept)  tratamento2  tratamento3  tratamento4  tratamento5  tratamento6 \n",
       "   0.4000000    0.6666667    0.6666667    0.6666667    0.6666667    0.6666667 \n",
       " tratamento7  tratamento8  tratamento9 tratamento10       bloco2       bloco3 \n",
       "   0.6666667    0.6666667    0.6666667    0.6666667    0.2000000    0.2000000 "
      ]
     },
     "metadata": {},
     "output_type": "display_data"
    }
   ],
   "source": [
    "diag(s$cov.unscaled)"
   ]
  },
  {
   "cell_type": "code",
   "execution_count": 68,
   "id": "19eb9616-f816-4588-90f2-144c05fb2007",
   "metadata": {},
   "outputs": [
    {
     "data": {
      "text/plain": [
       "            Df Sum Sq Mean Sq F value Pr(>F)\n",
       "tratamento   9  4.175  0.4639   0.854  0.579\n",
       "bloco        2  0.861  0.4303   0.792  0.468\n",
       "Residuals   18  9.775  0.5430               "
      ]
     },
     "metadata": {},
     "output_type": "display_data"
    }
   ],
   "source": [
    "model <- aov(slope ~ tratamento + bloco, data = df_slopes)\n",
    "summary(model)"
   ]
  },
  {
   "cell_type": "code",
   "execution_count": 70,
   "id": "de35383e-e540-4b0e-9b0d-a4b7e13ab446",
   "metadata": {},
   "outputs": [
    {
     "data": {
      "image/png": "[encoded data removed]",
      "text/plain": [
       "Plot with title “95% family-wise confidence level\n",
       "”"
      ]
     },
     "metadata": {
      "image/png": {
       "height": 360,
       "width": 900
      }
     },
     "output_type": "display_data"
    },
    {
     "data": {
      "image/png": "[encoded data removed]",
      "text/plain": [
       "Plot with title “95% family-wise confidence level\n",
       "”"
      ]
     },
     "metadata": {
      "image/png": {
       "height": 360,
       "width": 900
      }
     },
     "output_type": "display_data"
    }
   ],
   "source": [
    "plotç\n",
    "\n",
    "( TukeyHSD(model, conf.level=.95) )"
   ]
  }
 ],
 "metadata": {
  "kernelspec": {
   "display_name": "R",
   "language": "R",
   "name": "ir"
  },
  "language_info": {
   "codemirror_mode": "r",
   "file_extension": ".r",
   "mimetype": "text/x-r-source",
   "name": "R",
   "pygments_lexer": "r",
   "version": "4.2.2"
  }
 },
 "nbformat": 4,
 "nbformat_minor": 5
}
